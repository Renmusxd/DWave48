{
 "cells": [
  {
   "cell_type": "markdown",
   "metadata": {},
   "source": [
    "Lets try to get the phase portrait near low beta and gamma for the square lattice that 4-8 turns into."
   ]
  },
  {
   "cell_type": "code",
   "execution_count": 1,
   "metadata": {},
   "outputs": [],
   "source": [
    "import numpy\n",
    "from scipy import sparse\n",
    "import scipy.sparse.linalg\n",
    "from matplotlib import pyplot"
   ]
  },
  {
   "cell_type": "code",
   "execution_count": 2,
   "metadata": {},
   "outputs": [],
   "source": [
    "def make_ham_and_spin(nvars, edges, transverse):\n",
    "    ham = sparse.dok_matrix((2**nvars,2**nvars), dtype=numpy.float64)\n",
    "    \n",
    "    for i in range(2**nvars):\n",
    "        state = [(i >> j) & 1 for j in range(nvars)]\n",
    "        h = 0.0\n",
    "        for (vara, varb), j in edges:\n",
    "            if state[vara] == state[varb]:\n",
    "                h += j\n",
    "            else:\n",
    "                h -= j\n",
    "\n",
    "        ham[i,i] += h\n",
    "        \n",
    "        for j in range(nvars):\n",
    "            i_flip = i ^ (1 << j)\n",
    "            ham[i, i_flip] = ham[i, i_flip] + transverse\n",
    "\n",
    "#         for j in range(i+1, 2**nvars):\n",
    "#             b_state = [(j >> k) & 1 for k in range(nvars)]\n",
    "#             diffstate = [a^b for a,b in zip(state, b_state)]\n",
    "#             if sum(diffstate) != 1:\n",
    "#                 continue\n",
    "#             for vark,s in enumerate(diffstate):\n",
    "#                 if not s:\n",
    "#                     continue\n",
    "#                 ham[i, j] = ham[i,j] + transverse\n",
    "#                 ham[j, i] = ham[j,i] + transverse\n",
    "\n",
    "    spin_diag = []\n",
    "    for i in range(2**nvars):\n",
    "        state = [(i >> j) & 1 for j in range(nvars)]\n",
    "        spin_diag.append(numpy.sum(numpy.asarray(state)*2 - 1)**2)\n",
    "    spin_op = sparse.diags(spin_diag)\n",
    "    return ham.tocsc(), spin_op.tocsc()"
   ]
  },
  {
   "cell_type": "code",
   "execution_count": 3,
   "metadata": {},
   "outputs": [],
   "source": [
    "def make_lattice(side_len,j=1.0, plot=True):\n",
    "    nvars = side_len*side_len\n",
    "\n",
    "    x = numpy.arange(side_len)\n",
    "    y = x\n",
    "    X, Y = numpy.meshgrid(x, y)\n",
    "\n",
    "    INDX = Y*side_len + X\n",
    "    RIGHT = Y*side_len + (X+1)%side_len\n",
    "    BOT = (((Y+1) % side_len )*side_len + X)\n",
    "\n",
    "    right_edges = [((a, b), 1.0 if ((x+y)%2 == 0) else -1.0) for a, b, x, y in zip(INDX.flatten(), RIGHT.flatten(), X.flatten(), Y.flatten())]\n",
    "    bot_edges = [((a, b), -1.0) for a, b in zip(INDX.flatten(), BOT.flatten())]\n",
    "\n",
    "    edges =  right_edges + bot_edges\n",
    "    edge_list = numpy.asarray([(a, b) for ((a, b),_) in edges])\n",
    "    edge_values = numpy.asarray([j for _, j in edges])\n",
    "    \n",
    "    pyplot.scatter(X.flatten(), Y.flatten())\n",
    "    \n",
    "    if plot:\n",
    "        for (a,b),j in edges:\n",
    "            c = 'b'\n",
    "            if j > 0:\n",
    "                c = 'r'\n",
    "            ax = a % side_len\n",
    "            ay = a // side_len\n",
    "            bx = b % side_len\n",
    "            by = b // side_len\n",
    "            if abs(bx - ax) <= 1 and abs(by - ay) <= 1: \n",
    "                pyplot.plot([ax, bx], [ay, by], c)\n",
    "            else:\n",
    "                pass\n",
    "                #pyplot.plot(xs, ys, c+'--')\n",
    "        pyplot.show()\n",
    "    nvars = numpy.max(edge_list) + 1\n",
    "    return nvars, edges"
   ]
  },
  {
   "cell_type": "code",
   "execution_count": 4,
   "metadata": {},
   "outputs": [
    {
     "data": {
      "image/png": "[encoded data removed]",
      "text/plain": [
       "<Figure size 432x288 with 1 Axes>"
      ]
     },
     "metadata": {
      "needs_background": "light"
     },
     "output_type": "display_data"
    }
   ],
   "source": [
    "nvars, edges = make_lattice(4)"
   ]
  },
  {
   "cell_type": "code",
   "execution_count": 5,
   "metadata": {},
   "outputs": [],
   "source": [
    "def trace(m):\n",
    "    n = m.shape[0]\n",
    "    s = 0\n",
    "    for i in range(n):\n",
    "        s += m[i,i]\n",
    "    return s"
   ]
  },
  {
   "cell_type": "code",
   "execution_count": null,
   "metadata": {},
   "outputs": [
    {
     "name": "stderr",
     "output_type": "stream",
     "text": [
      "/Users/sumner/.virtualenvs/dwave/lib/python3.6/site-packages/scipy/sparse/_index.py:84: SparseEfficiencyWarning: Changing the sparsity structure of a csc_matrix is expensive. lil_matrix is more efficient.\n",
      "  self._set_intXint(row, col, x.flat[0])\n",
      "/Users/sumner/.virtualenvs/dwave/lib/python3.6/site-packages/scipy/sparse/_index.py:84: SparseEfficiencyWarning: Changing the sparsity structure of a csc_matrix is expensive. lil_matrix is more efficient.\n",
      "  self._set_intXint(row, col, x.flat[0])\n",
      "/Users/sumner/.virtualenvs/dwave/lib/python3.6/site-packages/scipy/sparse/_index.py:84: SparseEfficiencyWarning: Changing the sparsity structure of a csc_matrix is expensive. lil_matrix is more efficient.\n",
      "  self._set_intXint(row, col, x.flat[0])\n",
      "/Users/sumner/.virtualenvs/dwave/lib/python3.6/site-packages/scipy/sparse/_index.py:84: SparseEfficiencyWarning: Changing the sparsity structure of a csc_matrix is expensive. lil_matrix is more efficient.\n",
      "  self._set_intXint(row, col, x.flat[0])\n",
      "/Users/sumner/.virtualenvs/dwave/lib/python3.6/site-packages/scipy/sparse/_index.py:84: SparseEfficiencyWarning: Changing the sparsity structure of a csc_matrix is expensive. lil_matrix is more efficient.\n",
      "  self._set_intXint(row, col, x.flat[0])\n",
      "/Users/sumner/.virtualenvs/dwave/lib/python3.6/site-packages/scipy/sparse/_index.py:84: SparseEfficiencyWarning: Changing the sparsity structure of a csc_matrix is expensive. lil_matrix is more efficient.\n",
      "  self._set_intXint(row, col, x.flat[0])\n",
      "/Users/sumner/.virtualenvs/dwave/lib/python3.6/site-packages/scipy/sparse/_index.py:84: SparseEfficiencyWarning: Changing the sparsity structure of a csc_matrix is expensive. lil_matrix is more efficient.\n",
      "  self._set_intXint(row, col, x.flat[0])\n",
      "/Users/sumner/.virtualenvs/dwave/lib/python3.6/site-packages/scipy/sparse/_index.py:84: SparseEfficiencyWarning: Changing the sparsity structure of a csc_matrix is expensive. lil_matrix is more efficient.\n",
      "  self._set_intXint(row, col, x.flat[0])\n",
      "/Users/sumner/.virtualenvs/dwave/lib/python3.6/site-packages/scipy/sparse/_index.py:84: SparseEfficiencyWarning: Changing the sparsity structure of a csc_matrix is expensive. lil_matrix is more efficient.\n",
      "  self._set_intXint(row, col, x.flat[0])\n",
      "/Users/sumner/.virtualenvs/dwave/lib/python3.6/site-packages/scipy/sparse/_index.py:84: SparseEfficiencyWarning: Changing the sparsity structure of a csc_matrix is expensive. lil_matrix is more efficient.\n",
      "  self._set_intXint(row, col, x.flat[0])\n",
      "/Users/sumner/.virtualenvs/dwave/lib/python3.6/site-packages/scipy/sparse/_index.py:84: SparseEfficiencyWarning: Changing the sparsity structure of a csc_matrix is expensive. lil_matrix is more efficient.\n",
      "  self._set_intXint(row, col, x.flat[0])\n"
     ]
    }
   ],
   "source": [
    "ed_data = []\n",
    "kt_over_ejs = numpy.linspace(1/30.,1.0,10)\n",
    "gammas = numpy.linspace(0,1.0,10)\n",
    "\n",
    "KTS, GAMS = numpy.meshgrid(kt_over_ejs, gammas)\n",
    "BETAS = 1./KTS\n",
    "\n",
    "@numpy.vectorize\n",
    "def foo(beta, g):\n",
    "    ham, spin_op = make_ham_and_spin(nvars, edges, g)\n",
    "    expm = scipy.sparse.linalg.expm(-beta*ham)\n",
    "    return trace(spin_op @ expm) / trace(expm)\n",
    "\n",
    "spins = foo(BETAS, GAMS)"
   ]
  },
  {
   "cell_type": "code",
   "execution_count": null,
   "metadata": {},
   "outputs": [],
   "source": [
    "pyplot.contourf(KTS, GAMS, spins)"
   ]
  },
  {
   "cell_type": "code",
   "execution_count": null,
   "metadata": {},
   "outputs": [],
   "source": []
  }
 ],
 "metadata": {
  "kernelspec": {
   "display_name": "Python 3",
   "language": "python",
   "name": "python3"
  },
  "language_info": {
   "codemirror_mode": {
    "name": "ipython",
    "version": 3
   },
   "file_extension": ".py",
   "mimetype": "text/x-python",
   "name": "python",
   "nbconvert_exporter": "python",
   "pygments_lexer": "ipython3",
   "version": "3.8.2"
  }
 },
 "nbformat": 4,
 "nbformat_minor": 4
}
