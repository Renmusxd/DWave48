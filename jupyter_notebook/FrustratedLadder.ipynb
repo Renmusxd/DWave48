{
 "cells": [
  {
   "cell_type": "code",
   "execution_count": 60,
   "metadata": {},
   "outputs": [],
   "source": [
    "import numpy\n",
    "from matplotlib import pyplot\n",
    "import py_monte_carlo\n",
    "import scipy.sparse\n",
    "import scipy.linalg"
   ]
  },
  {
   "cell_type": "code",
   "execution_count": 61,
   "metadata": {},
   "outputs": [],
   "source": [
    "def make_ham_and_spin(nvars, edges, transverse):\n",
    "    ham = numpy.zeros((2**nvars,2**nvars))\n",
    "    for i in range(2**nvars):\n",
    "        state = [(i >> j) & 1 for j in range(nvars)]\n",
    "        h = 0.0\n",
    "        for (vara, varb), j in edges:\n",
    "            if state[vara] == state[varb]:\n",
    "                h += j\n",
    "            else:\n",
    "                h -= j\n",
    "\n",
    "        ham[i,i] += h\n",
    "        for j in range(i+1, 2**nvars):\n",
    "            b_state = [(j >> k) & 1 for k in range(nvars)]\n",
    "            diffstate = [a^b for a,b in zip(state, b_state)]\n",
    "            if sum(diffstate) != 1:\n",
    "                continue\n",
    "            for vark,s in enumerate(diffstate):\n",
    "                if not s:\n",
    "                    continue\n",
    "                ham[i, j] = ham[i,j] + transverse\n",
    "                ham[j, i] = ham[j,i] + transverse\n",
    "\n",
    "    spin_diag = []\n",
    "    for i in range(2**nvars):\n",
    "        state = [(i >> j) & 1 for j in range(nvars)]\n",
    "        spin_diag.append(numpy.sum(numpy.asarray(state)*2 - 1)**2)\n",
    "    spin_op = numpy.diag(spin_diag)\n",
    "    return ham, spin_op\n",
    "\n",
    "ham, spin_op = make_ham_and_spin(nvars, edges, transverse)"
   ]
  },
  {
   "cell_type": "code",
   "execution_count": 62,
   "metadata": {},
   "outputs": [],
   "source": [
    "edges = {}\n",
    "\n",
    "rungs = 4\n",
    "f = lambda m: m % (rungs*2)\n",
    "for i in range(rungs):\n",
    "    j = 2*i\n",
    "    edges[(j,j+1)] = 1.0\n",
    "    edges[(j,f(j+2))] = 1.0\n",
    "    edges[(j+1,f(j+3))] = -1.0\n",
    "edges =  [(k,edges[k]) for k in edges]"
   ]
  },
  {
   "cell_type": "code",
   "execution_count": 63,
   "metadata": {},
   "outputs": [],
   "source": [
    "transverse = 1.0\n",
    "nvars = max(v for (vs,_) in edges for v in vs)+1\n",
    "beta = 1.0"
   ]
  },
  {
   "cell_type": "code",
   "execution_count": 64,
   "metadata": {},
   "outputs": [],
   "source": [
    "hs = 10**numpy.linspace(-1,1,10)"
   ]
  },
  {
   "cell_type": "code",
   "execution_count": 65,
   "metadata": {},
   "outputs": [],
   "source": [
    "lattice_ed_data_hs = []\n",
    "lattice_ed_energy_hs = []\n",
    "\n",
    "for h in hs:\n",
    "    ham, spin_op = make_ham_and_spin(nvars, edges, h)\n",
    "    expm = scipy.linalg.expm(-beta*ham)\n",
    "    lattice_ed_data_hs.append(numpy.trace(spin_op @ expm) / numpy.trace(expm))\n",
    "    lattice_ed_energy_hs.append(numpy.trace(ham @ expm) / numpy.trace(expm))"
   ]
  },
  {
   "cell_type": "code",
   "execution_count": 66,
   "metadata": {},
   "outputs": [],
   "source": [
    "lattice_qmc_data_hs = numpy.zeros(len(hs))\n",
    "lattice_qmc_energy_hs = numpy.zeros(len(hs))\n",
    "graph = py_monte_carlo.Lattice(nvars, edges)\n",
    "\n",
    "for i, h in enumerate(hs):\n",
    "    graph.set_transverse_field(h)\n",
    "    results = graph.run_quantum_monte_carlo_and_measure_spins(beta, 100000, 8, exponent=2)\n",
    "    results, energies = zip(*results)\n",
    "    lattice_qmc_data_hs[i] = numpy.mean(results, axis=0)\n",
    "    lattice_qmc_energy_hs[i] = numpy.mean(energies)"
   ]
  },
  {
   "cell_type": "code",
   "execution_count": 67,
   "metadata": {},
   "outputs": [
    {
     "data": {
      "image/png": "[encoded data removed]",
      "text/plain": [
       "<Figure size 432x288 with 1 Axes>"
      ]
     },
     "metadata": {
      "needs_background": "light"
     },
     "output_type": "display_data"
    },
    {
     "data": {
      "image/png": "[encoded data removed]",
      "text/plain": [
       "<Figure size 432x288 with 1 Axes>"
      ]
     },
     "metadata": {
      "needs_background": "light"
     },
     "output_type": "display_data"
    }
   ],
   "source": [
    "pyplot.plot(hs, lattice_ed_data_hs, label='ED')\n",
    "pyplot.plot(hs, lattice_qmc_data_hs, label='QMC')\n",
    "pyplot.xscale(\"log\")\n",
    "pyplot.legend()\n",
    "pyplot.grid()\n",
    "pyplot.xlabel(\"h\")\n",
    "pyplot.ylabel(\"$M^2/N$\")\n",
    "pyplot.show()\n",
    "\n",
    "pyplot.plot(hs, lattice_ed_energy_hs, label='ED')\n",
    "pyplot.plot(hs, lattice_qmc_energy_hs, label='QMC')\n",
    "pyplot.xscale(\"log\")\n",
    "pyplot.grid()\n",
    "pyplot.legend()\n",
    "pyplot.xlabel(\"h\")\n",
    "pyplot.ylabel(\"E\")\n",
    "pyplot.show()"
   ]
  },
  {
   "cell_type": "code",
   "execution_count": null,
   "metadata": {},
   "outputs": [],
   "source": []
  }
 ],
 "metadata": {
  "kernelspec": {
   "display_name": "Python 3",
   "language": "python",
   "name": "python3"
  },
  "language_info": {
   "codemirror_mode": {
    "name": "ipython",
    "version": 3
   },
   "file_extension": ".py",
   "mimetype": "text/x-python",
   "name": "python",
   "nbconvert_exporter": "python",
   "pygments_lexer": "ipython3",
   "version": "3.6.9"
  }
 },
 "nbformat": 4,
 "nbformat_minor": 4
}
