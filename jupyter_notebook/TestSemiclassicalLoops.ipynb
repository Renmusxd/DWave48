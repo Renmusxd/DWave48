{
 "cells": [
  {
   "cell_type": "code",
   "execution_count": 1,
   "metadata": {},
   "outputs": [],
   "source": [
    "import numpy\n",
    "from matplotlib import pyplot\n",
    "import py_monte_carlo\n",
    "from scipy import sparse\n",
    "import scipy.sparse.linalg\n",
    "import scipy.linalg\n",
    "import pickle\n",
    "import os"
   ]
  },
  {
   "cell_type": "code",
   "execution_count": 2,
   "metadata": {},
   "outputs": [],
   "source": [
    "def make_ham_and_spin(nvars, edges, transverse):\n",
    "    ham = sparse.dok_matrix((2**nvars,2**nvars), dtype=numpy.float64)\n",
    "    \n",
    "    for i in range(2**nvars):\n",
    "        state = [(i >> j) & 1 for j in range(nvars)]\n",
    "        h = 0.0\n",
    "        for (vara, varb), j in edges:\n",
    "            if state[vara] == state[varb]:\n",
    "                h += j\n",
    "            else:\n",
    "                h -= j\n",
    "\n",
    "        ham[i,i] += h\n",
    "        \n",
    "        for j in range(nvars):\n",
    "            i_flip = i ^ (1 << j)\n",
    "            ham[i, i_flip] = ham[i, i_flip] + transverse\n",
    "    spin_diag = []\n",
    "    for i in range(2**nvars):\n",
    "        state = [(i >> j) & 1 for j in range(nvars)]\n",
    "        spin_diag.append(numpy.sum(numpy.asarray(state)*2 - 1)**2)\n",
    "    spin_op = sparse.diags(spin_diag)\n",
    "    return ham.tocsc(), spin_op.tocsc()"
   ]
  },
  {
   "cell_type": "code",
   "execution_count": 3,
   "metadata": {},
   "outputs": [],
   "source": [
    "def make_lattice(x_side, y_side,j=1.0):\n",
    "    nvars = x_side*y_side\n",
    "\n",
    "    x = numpy.arange(x_side)\n",
    "    y = numpy.arange(y_side)\n",
    "    X, Y = numpy.meshgrid(x, y)\n",
    "\n",
    "    INDX = Y*x_side + X\n",
    "    RIGHT = Y*x_side + (X+1)%x_side\n",
    "    BOT = (((Y+1) % y_side )*x_side + X)\n",
    "\n",
    "    right_edges = [((a, b), 1.0 if (y%2 == 0) else -1.0) for a, b, x, y in zip(INDX.flatten(), RIGHT.flatten(), X.flatten(), Y.flatten())]\n",
    "    bot_edges = [((a, b), -1.0) for a, b in zip(INDX.flatten(), BOT.flatten())]\n",
    "\n",
    "    edges =  right_edges + bot_edges\n",
    "    edge_list = numpy.asarray([(a, b) for ((a, b),_) in edges])\n",
    "    edge_values = numpy.asarray([j for _, j in edges])\n",
    "    \n",
    "    nvars = numpy.max(edge_list) + 1\n",
    "    return nvars, edges\n",
    "\n",
    "def make_lattice_faces(x_side, y_side):\n",
    "    def f(x, y):\n",
    "        return (y%y_side)*x_side + (x%x_side)\n",
    "    def make_face(x, y):\n",
    "        return [f(x,y), f(x+1,y), f(x+1,y+1), f(x,y+1)]\n",
    "    return [make_face(x, y) for x in range(x_side) for y in range(y_side)]\n",
    "    \n",
    "def plot_graph(edges, x_side, y_side):\n",
    "    for (a,b),j in edges:\n",
    "        c = 'b'\n",
    "        if j > 0:\n",
    "            c = 'r'\n",
    "        ax = a % x_side\n",
    "        ay = a // x_side\n",
    "        bx = b % x_side\n",
    "        by = b // x_side\n",
    "        if abs(bx - ax) <= 1 and abs(by - ay) <= 1: \n",
    "            pyplot.plot([ax, bx], [ay, by], c)\n",
    "        else:\n",
    "            pyplot.plot([ax, bx], [ay, by], c, alpha=0.1)\n",
    "    pyplot.show()"
   ]
  },
  {
   "cell_type": "code",
   "execution_count": 4,
   "metadata": {},
   "outputs": [
    {
     "data": {
      "image/png": "[encoded data removed]",
      "text/plain": [
       "<Figure size 432x288 with 1 Axes>"
      ]
     },
     "metadata": {
      "needs_background": "light"
     },
     "output_type": "display_data"
    }
   ],
   "source": [
    "nx = 3\n",
    "ny = 4\n",
    "nvars, edges = make_lattice(nx, ny)\n",
    "faces = make_lattice_faces(nx, ny)\n",
    "plot_graph(edges, nx, ny)"
   ]
  },
  {
   "cell_type": "code",
   "execution_count": 5,
   "metadata": {},
   "outputs": [],
   "source": [
    "betas = 10**numpy.linspace(-1,numpy.log10(3), 10)\n",
    "transverse = 0.2"
   ]
  },
  {
   "cell_type": "code",
   "execution_count": 6,
   "metadata": {},
   "outputs": [],
   "source": [
    "graph = py_monte_carlo.Lattice(edges)\n",
    "graph.set_transverse_field(transverse)\n",
    "# graph.set_enable_semiclassical_update(True)\n",
    "graph.enable_semiclassical_loops_from_vars(faces)"
   ]
  },
  {
   "cell_type": "code",
   "execution_count": 7,
   "metadata": {},
   "outputs": [],
   "source": [
    "q_transverse_data = numpy.zeros(len(betas))\n",
    "q_transverse_std = numpy.zeros(len(betas))\n",
    "for i, beta in enumerate(betas):\n",
    "    results, energies = graph.run_quantum_monte_carlo_and_measure_spins(beta, 50000, 16, exponent=2, sampling_wait_buffer=10000)\n",
    "    q_transverse_data[i] = numpy.mean(results, axis=0)\n",
    "    q_transverse_std[i] = numpy.std(results, axis=0)"
   ]
  },
  {
   "cell_type": "code",
   "execution_count": 8,
   "metadata": {},
   "outputs": [],
   "source": [
    "saved_data_filename = \"testsemiclassicalloop_ed.pickle\"\n",
    "if os.path.exists(saved_data_filename):\n",
    "    with open(saved_data_filename, \"rb\") as f:\n",
    "        ed_transverse_data = pickle.load(f)\n",
    "else:\n",
    "    ed_transverse_data = []\n",
    "    ham, spin_op = make_ham_and_spin(nvars, edges, transverse)\n",
    "    for beta in betas:\n",
    "        expm = scipy.sparse.linalg.expm(-beta*ham)\n",
    "        ed_transverse_data.append((spin_op @ expm).diagonal().sum() / (expm).diagonal().sum())\n",
    "    with open(saved_data_filename, \"wb\") as w:\n",
    "        pickle.dump(ed_transverse_data, w)"
   ]
  },
  {
   "cell_type": "code",
   "execution_count": 9,
   "metadata": {},
   "outputs": [
    {
     "data": {
      "image/png": "[encoded data removed]",
      "text/plain": [
       "<Figure size 432x288 with 1 Axes>"
      ]
     },
     "metadata": {
      "needs_background": "light"
     },
     "output_type": "display_data"
    }
   ],
   "source": [
    "pyplot.plot(betas, ed_transverse_data, 'x-', label=\"ED_T\")\n",
    "pyplot.errorbar(betas, q_transverse_data, q_transverse_std, label=\"QMC\")\n",
    "pyplot.xscale('log')\n",
    "pyplot.legend()\n",
    "pyplot.grid()\n",
    "pyplot.xlabel(\"beta\")\n",
    "pyplot.ylabel(\"$M^2/N$\")\n",
    "pyplot.show()"
   ]
  }
 ],
 "metadata": {
  "kernelspec": {
   "display_name": "Python 3",
   "language": "python",
   "name": "python3"
  },
  "language_info": {
   "codemirror_mode": {
    "name": "ipython",
    "version": 3
   },
   "file_extension": ".py",
   "mimetype": "text/x-python",
   "name": "python",
   "nbconvert_exporter": "python",
   "pygments_lexer": "ipython3",
   "version": "3.8.2"
  }
 },
 "nbformat": 4,
 "nbformat_minor": 4
}
