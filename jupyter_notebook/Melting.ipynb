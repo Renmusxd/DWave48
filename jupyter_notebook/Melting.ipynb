{
 "cells": [
  {
   "cell_type": "code",
   "execution_count": 1,
   "metadata": {},
   "outputs": [],
   "source": [
    "import numpy\n",
    "import scipy.stats\n",
    "import py_monte_carlo\n",
    "from matplotlib import pyplot\n",
    "import pickle\n",
    "import os"
   ]
  },
  {
   "cell_type": "code",
   "execution_count": 2,
   "metadata": {},
   "outputs": [],
   "source": [
    "side_len = 6\n",
    "nvars = side_len*side_len\n",
    "\n",
    "x = numpy.arange(side_len)\n",
    "y = x\n",
    "X, Y = numpy.meshgrid(x, y)\n",
    "\n",
    "INDX = Y*side_len + X\n",
    "RIGHT = Y*side_len + (X+1)%side_len\n",
    "BOT = (((Y+1) % side_len )*side_len + X)\n",
    "\n",
    "right_edges = [((a, b), -1.0) for a, b in zip(INDX.flatten(), RIGHT.flatten())]\n",
    "bot_edges = [((a, b), -1.0 if b%2 else 1.0) for a, b in zip(INDX.flatten(), BOT.flatten())]\n",
    "\n",
    "edges =  right_edges + bot_edges"
   ]
  },
  {
   "cell_type": "code",
   "execution_count": 3,
   "metadata": {},
   "outputs": [
    {
     "data": {
      "image/png": "[encoded data removed]",
      "text/plain": [
       "<Figure size 432x288 with 1 Axes>"
      ]
     },
     "metadata": {
      "needs_background": "light"
     },
     "output_type": "display_data"
    }
   ],
   "source": [
    "pyplot.scatter(X.flatten(), Y.flatten())\n",
    "for (a,b),j in edges:\n",
    "    c = 'b'\n",
    "    if j > 0:\n",
    "        c = 'r'\n",
    "    ax = a % side_len\n",
    "    ay = a // side_len\n",
    "    bx = b % side_len\n",
    "    by = b // side_len\n",
    "    if abs(bx - ax) <= 1 and abs(by - ay) <= 1: \n",
    "        pyplot.plot([ax, bx], [ay, by], c)\n",
    "    else:\n",
    "        pass\n",
    "        #pyplot.plot(xs, ys, c+'--')"
   ]
  },
  {
   "cell_type": "code",
   "execution_count": 4,
   "metadata": {},
   "outputs": [],
   "source": [
    "def parallel(a, b):\n",
    "    ax, ay = a\n",
    "    bx, by = b\n",
    "    dx = bx - ax\n",
    "    dy = by - ay\n",
    "    ny = (by + dy) % side_len\n",
    "    nx = (bx + dx) % side_len\n",
    "    return (bx, by), (nx, ny)\n",
    "\n",
    "def plot_state(state):\n",
    "    edge_gen = ((state[a] ^ state[b],j) for (a,b), j in edges)\n",
    "    dimer_states = [a if j<0 else not a for a,j in edge_gen]\n",
    "    all_indices = numpy.asarray([(a,b) for (a,b),_ in edges])\n",
    "    x_all_indices = all_indices % side_len\n",
    "    y_all_indices = all_indices // side_len\n",
    "    all_coords = numpy.dstack([x_all_indices, y_all_indices])\n",
    "    dimer_lookup = dict(((tuple(a), tuple(b)), s) for (a,b), s in zip(all_coords, dimer_states))\n",
    "    \n",
    "    pyplot.scatter(X.flatten(), Y.flatten())\n",
    "    for k,v in dimer_lookup.items():\n",
    "        c = 'b'\n",
    "        if v:\n",
    "            c = 'r'\n",
    "        a, b = k\n",
    "        xs, ys = zip(a, b)\n",
    "        \n",
    "        xs = list(xs)\n",
    "        ys = list(ys)\n",
    "        if abs(xs[0] - xs[1]) > 1:\n",
    "            xs[0] = max(xs[0], xs[1])\n",
    "            xs[1] = xs[0] + 1\n",
    "        if abs(ys[0] - ys[1]) > 1: \n",
    "            ys[0] = min(ys[0], ys[1]) - 1\n",
    "            ys[1] = ys[0] + 1\n",
    "        \n",
    "        avg_x = sum(xs)/2.0\n",
    "        avg_y = sum(ys)/2.0\n",
    "\n",
    "        if xs[0] == xs[1]:\n",
    "            pyplot.plot([avg_x-0.5, avg_x+0.5], [avg_y,avg_y], c)\n",
    "        else:\n",
    "            pyplot.plot([avg_x, avg_x], [avg_y-0.5,avg_y+0.5], c)\n",
    "        \n",
    "    pyplot.show()\n",
    "    \n",
    "    tot = 0\n",
    "    count = 0\n",
    "    for k in filter(lambda k: dimer_lookup[k], dimer_lookup):\n",
    "        tot += 1\n",
    "        if dimer_lookup[parallel(*k)]:\n",
    "            count += 1\n",
    "    return (tot, count)"
   ]
  },
  {
   "cell_type": "markdown",
   "metadata": {},
   "source": [
    "Create an initial columnar state"
   ]
  },
  {
   "cell_type": "code",
   "execution_count": 5,
   "metadata": {},
   "outputs": [
    {
     "data": {
      "image/png": "[encoded data removed]",
      "text/plain": [
       "<Figure size 432x288 with 1 Axes>"
      ]
     },
     "metadata": {
      "needs_background": "light"
     },
     "output_type": "display_data"
    },
    {
     "data": {
      "text/plain": [
       "(18, 18)"
      ]
     },
     "execution_count": 5,
     "metadata": {},
     "output_type": "execute_result"
    }
   ],
   "source": [
    "plot_state([True for _ in range(nvars)])"
   ]
  },
  {
   "cell_type": "code",
   "execution_count": 10,
   "metadata": {},
   "outputs": [],
   "source": [
    "def get_linearish(data, window=20):\n",
    "    lowest_err = (0,0,1e512, 0)\n",
    "    i = 0\n",
    "    while i < len(data)-window:\n",
    "        subdat = data[i:i+window]\n",
    "        if any(numpy.isnan(subdat)):\n",
    "            i += window\n",
    "        else:\n",
    "            slope, intercept, _, _, std_err = scipy.stats.linregress(range(i, i+window), subdat)\n",
    "            if std_err < lowest_err[2]:\n",
    "                lowest_err = (slope, intercept, std_err, i)\n",
    "            i += 1\n",
    "    return lowest_err"
   ]
  },
  {
   "cell_type": "code",
   "execution_count": 6,
   "metadata": {},
   "outputs": [],
   "source": [
    "graph = py_monte_carlo.Lattice(edges)\n",
    "graph.set_initial_state([True for _ in range(nvars)])"
   ]
  },
  {
   "cell_type": "code",
   "execution_count": 23,
   "metadata": {},
   "outputs": [],
   "source": [
    "hs = numpy.linspace(0.1, 2.0, 20)\n",
    "betas = numpy.linspace(0.1, 10.0, 20)\n",
    "\n",
    "HS, BETAS = numpy.meshgrid(hs, betas)"
   ]
  },
  {
   "cell_type": "code",
   "execution_count": null,
   "metadata": {},
   "outputs": [],
   "source": [
    "if not os.path.exists('corrs'):\n",
    "    os.mkdir('corrs')\n",
    "    \n",
    "\n",
    "@numpy.vectorize\n",
    "def run_corrs(h, beta):\n",
    "    filename = 'corrs/{}'.format(hash((h, beta)))\n",
    "    if os.path.exists(filename):\n",
    "        with open(filename, 'rb') as f:\n",
    "            bond_correlation = pickle.load(f)\n",
    "    else:\n",
    "        graph.set_transverse_field(1.0)\n",
    "        bond_correlation = numpy.mean(numpy.asarray(graph.run_quantum_monte_carlo_and_measure_bond_autocorrelation(beta, 1000, 16)), axis=0)\n",
    "        with open(filename, 'wb') as w:\n",
    "            pickle.dump(bond_correlation, w)\n",
    "    slope, _, _, _ = get_linearish(bond_correlation[:100], window=20)\n",
    "    return slope\n",
    "    \n",
    "correlations = run_corrs(HS, BETAS)"
   ]
  },
  {
   "cell_type": "code",
   "execution_count": null,
   "metadata": {},
   "outputs": [],
   "source": [
    "pyplot.imshow(correlations)\n",
    "pyplot.show()"
   ]
  }
 ],
 "metadata": {
  "kernelspec": {
   "display_name": "Python 3",
   "language": "python",
   "name": "python3"
  },
  "language_info": {
   "codemirror_mode": {
    "name": "ipython",
    "version": 3
   },
   "file_extension": ".py",
   "mimetype": "text/x-python",
   "name": "python",
   "nbconvert_exporter": "python",
   "pygments_lexer": "ipython3",
   "version": "3.6.9"
  }
 },
 "nbformat": 4,
 "nbformat_minor": 4
}
