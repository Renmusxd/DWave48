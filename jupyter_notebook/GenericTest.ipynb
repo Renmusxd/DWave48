{
 "cells": [
  {
   "cell_type": "code",
   "execution_count": 1,
   "metadata": {},
   "outputs": [],
   "source": [
    "import numpy\n",
    "from matplotlib import pyplot\n",
    "import py_monte_carlo\n",
    "import scipy.sparse\n",
    "import scipy.linalg"
   ]
  },
  {
   "cell_type": "code",
   "execution_count": 2,
   "metadata": {},
   "outputs": [],
   "source": [
    "def make_lattice(xsidelen=1, ysidelen=1):\n",
    "    x = numpy.arange(xsidelen)\n",
    "    y = numpy.arange(ysidelen)\n",
    "    n = numpy.arange(4)\n",
    "    X, Y, N = numpy.meshgrid(x, y, n)\n",
    "\n",
    "    INDX = Y*len(x)*len(n) + X*len(n) + N\n",
    "    SQR_BONDS = Y*len(x)*len(n) + X*len(n) + (N + 1)%len(n)\n",
    "\n",
    "    edges = [((a, b), 1 if a%len(n) == 0 and b%len(n) == 1 else -1) \n",
    "             for a,b in zip(INDX.flatten(), SQR_BONDS.flatten())]\n",
    "    \n",
    "    for (sx, sy, sn) in zip(X.flatten(), Y.flatten(), N.flatten()):\n",
    "        if sn == 1:\n",
    "            a = sy*len(x)*len(n) + sx*len(n) + 1\n",
    "            b = sy*len(x)*len(n) + ((sx+1)%len(x))*len(n) + 3\n",
    "            edges.append(((a,b), -1))\n",
    "        if sn == 0:\n",
    "            a = sy*len(x)*len(n) + sx*len(n) + 0\n",
    "            b = ((sy+1)%len(y))*len(x)*len(n) + sx*len(n) + 2\n",
    "            edges.append(((a,b), -1))\n",
    "    \n",
    "    return edges"
   ]
  },
  {
   "cell_type": "code",
   "execution_count": 3,
   "metadata": {},
   "outputs": [],
   "source": [
    "def make_ham_and_spin(nvars, edges, transverse):\n",
    "    ham = numpy.zeros((2**nvars,2**nvars))\n",
    "    for i in range(2**nvars):\n",
    "        state = [(i >> j) & 1 for j in range(nvars)]\n",
    "        h = 0.0\n",
    "        for (vara, varb), j in edges:\n",
    "            if state[vara] == state[varb]:\n",
    "                h += j\n",
    "            else:\n",
    "                h -= j\n",
    "\n",
    "        ham[i,i] += h\n",
    "        for j in range(i+1, 2**nvars):\n",
    "            b_state = [(j >> k) & 1 for k in range(nvars)]\n",
    "            diffstate = [a^b for a,b in zip(state, b_state)]\n",
    "            if sum(diffstate) != 1:\n",
    "                continue\n",
    "            for vark,s in enumerate(diffstate):\n",
    "                if not s:\n",
    "                    continue\n",
    "                ham[i, j] = ham[i,j] + transverse\n",
    "                ham[j, i] = ham[j,i] + transverse\n",
    "\n",
    "    spin_diag = []\n",
    "    for i in range(2**nvars):\n",
    "        state = [(i >> j) & 1 for j in range(nvars)]\n",
    "        spin_diag.append(numpy.sum(numpy.asarray(state)*2 - 1)**2)\n",
    "    spin_op = numpy.diag(spin_diag)\n",
    "    return ham, spin_op"
   ]
  },
  {
   "cell_type": "code",
   "execution_count": 4,
   "metadata": {},
   "outputs": [],
   "source": [
    "def make_generic(edges, transverse, experiments=4):\n",
    "    all_vars = list(sorted(set(v for (vs, _) in edges for v in vs)))\n",
    "    nvars = max(all_vars)+1\n",
    "    qmc = py_monte_carlo.QMCRunner(nvars, experiments)\n",
    "    for (a, b), j in edges:\n",
    "        diag = [\n",
    "            -j, # 00\n",
    "            j,  # 01\n",
    "            j,  # 10\n",
    "            -j, # 11\n",
    "        ]\n",
    "        qmc.add_diagonal_interaction_and_offset(diag, [a, b])\n",
    "    for a in all_vars:\n",
    "        qmc.add_interaction([transverse]*4, [a])\n",
    "    return qmc\n",
    "    \n",
    "\n",
    "def make_48_cluster(transverse, xsidelen=1, ysidelen=1, experiments=4):\n",
    "    nvars = xsidelen*xsidelen*4\n",
    "    qmc = py_monte_carlo.QMCRunner(nvars, experiments)\n",
    "    \n",
    "    def var_lookup(x, y, r):\n",
    "        return (y%ysidelen)*xsidelen*4 + (x%xsidelen)*4 + (r%4)\n",
    "    \n",
    "    for y in range(ysidelen):\n",
    "        for x in range(xsidelen):\n",
    "            diag = [\n",
    "                -2, # 0000\n",
    "                -2, # 0001\n",
    "                -2, # 0010\n",
    "                2,  # 0011\n",
    "                2,  # 0100\n",
    "                2,  # 0101\n",
    "                -2, # 0110\n",
    "                2,  # 0111\n",
    "                # --------\n",
    "                2,  # 1000\n",
    "                -2, # 1001\n",
    "                2,  # 1010\n",
    "                2,  # 1011\n",
    "                2,  # 1100\n",
    "                -2, # 1101\n",
    "                -2, # 1110\n",
    "                -2, # 1111\n",
    "            ]\n",
    "            int_vars = [var_lookup(x, y, r) for r in range(4)]\n",
    "            qmc.add_diagonal_interaction_and_offset(diag, int_vars)\n",
    "            \n",
    "            diag = [\n",
    "                -1, # 00\n",
    "                1,  # 01\n",
    "                1,  # 10\n",
    "                -1, # 11\n",
    "            ]\n",
    "            int_vars = [var_lookup(x, y, 1), var_lookup(x+1, y, 3)]\n",
    "            qmc.add_diagonal_interaction_and_offset(diag, int_vars)\n",
    "            int_vars = [var_lookup(x, y, 0), var_lookup(x, y+1, 2)]\n",
    "            qmc.add_diagonal_interaction_and_offset(diag, int_vars)\n",
    "            \n",
    "            # Transverse field\n",
    "            for r in range(4):\n",
    "                qmc.add_interaction([transverse]*4, [var_lookup(x, y, r)])\n",
    "    return qmc"
   ]
  },
  {
   "cell_type": "markdown",
   "metadata": {},
   "source": [
    "## Test Things"
   ]
  },
  {
   "cell_type": "code",
   "execution_count": 5,
   "metadata": {},
   "outputs": [
    {
     "name": "stdout",
     "output_type": "stream",
     "text": [
      "10.0\n",
      "6.0\n",
      "4.0\n"
     ]
    }
   ],
   "source": [
    "edges =  make_lattice()\n",
    "transverse = 1.0\n",
    "\n",
    "lattice_graph = py_monte_carlo.Lattice(edges)\n",
    "lattice_graph.set_transverse_field(transverse)\n",
    "print(lattice_graph.get_offset())\n",
    "\n",
    "generic_graph = make_generic(edges, transverse)\n",
    "print(generic_graph.get_offset())\n",
    "\n",
    "cluster_graph = make_48_cluster(transverse)\n",
    "print(cluster_graph.get_offset())"
   ]
  },
  {
   "cell_type": "code",
   "execution_count": 6,
   "metadata": {},
   "outputs": [
    {
     "data": {
      "text/plain": [
       "-4.882318249481541"
      ]
     },
     "execution_count": 6,
     "metadata": {},
     "output_type": "execute_result"
    }
   ],
   "source": [
    "all_vars = list(sorted(set(v for (vs, _) in edges for v in vs)))\n",
    "nvars = max(all_vars)+1    \n",
    "ham, spin_op = make_ham_and_spin(nvars, edges, transverse)\n",
    "expm = scipy.linalg.expm(-1.0*ham)\n",
    "numpy.trace(ham @ expm) / numpy.trace(expm)"
   ]
  },
  {
   "cell_type": "code",
   "execution_count": 7,
   "metadata": {},
   "outputs": [
    {
     "data": {
      "text/plain": [
       "array([-4.89658, -4.88551, -4.88948, -4.91277])"
      ]
     },
     "execution_count": 7,
     "metadata": {},
     "output_type": "execute_result"
    }
   ],
   "source": [
    "lattice_graph.run_quantum_monte_carlo_sampling(1.0, 100000, 4)[0]"
   ]
  },
  {
   "cell_type": "code",
   "execution_count": 8,
   "metadata": {},
   "outputs": [
    {
     "data": {
      "text/plain": [
       "array([-8.82644, -8.87903, -8.89102, -8.92507])"
      ]
     },
     "execution_count": 8,
     "metadata": {},
     "output_type": "execute_result"
    }
   ],
   "source": [
    "generic_graph.run_sampling(1.0, 100000)[0]"
   ]
  },
  {
   "cell_type": "code",
   "execution_count": 9,
   "metadata": {},
   "outputs": [
    {
     "data": {
      "text/plain": [
       "array([-8.87421, -8.87653, -8.86574, -8.85895])"
      ]
     },
     "execution_count": 9,
     "metadata": {},
     "output_type": "execute_result"
    }
   ],
   "source": [
    "cluster_graph.run_sampling(1.0, 100000)[0]"
   ]
  },
  {
   "cell_type": "markdown",
   "metadata": {},
   "source": [
    "## Autocorr"
   ]
  },
  {
   "cell_type": "code",
   "execution_count": 10,
   "metadata": {},
   "outputs": [],
   "source": [
    "edges = make_lattice(16, 16)\n",
    "spin_prods = [list(vs) for vs, _ in edges]"
   ]
  },
  {
   "cell_type": "code",
   "execution_count": 11,
   "metadata": {},
   "outputs": [
    {
     "name": "stdout",
     "output_type": "stream",
     "text": [
      "1.0\n",
      "0.5\n",
      "0.1\n",
      "0.05\n"
     ]
    },
    {
     "data": {
      "image/png": "[encoded data removed]",
      "text/plain": [
       "<Figure size 432x288 with 1 Axes>"
      ]
     },
     "metadata": {
      "needs_background": "light"
     },
     "output_type": "display_data"
    }
   ],
   "source": [
    "l = py_monte_carlo.Lattice(edges)\n",
    "\n",
    "for gamma in [1.0, 0.5, 0.1, 0.05]:\n",
    "    print(gamma)\n",
    "    l.set_transverse_field(gamma)\n",
    "    autocorrs = l.run_quantum_monte_carlo_and_measure_spin_product_autocorrelation(2.0, 10000, 4, spin_prods, sampling_wait_buffer=10000)\n",
    "\n",
    "    for i in range(autocorrs.shape[0]):\n",
    "        pyplot.plot(autocorrs[i,:1000], alpha=0.1)\n",
    "    pyplot.plot(numpy.mean(autocorrs[:,:1000], axis=0), label=str(gamma))\n",
    "pyplot.legend()\n",
    "pyplot.yscale('log')\n",
    "pyplot.show()"
   ]
  },
  {
   "cell_type": "code",
   "execution_count": 13,
   "metadata": {},
   "outputs": [
    {
     "name": "stdout",
     "output_type": "stream",
     "text": [
      "1.0\n",
      "0.5\n",
      "0.1\n",
      "0.05\n"
     ]
    },
    {
     "data": {
      "image/png": "[encoded data removed]",
      "text/plain": [
       "<Figure size 432x288 with 1 Axes>"
      ]
     },
     "metadata": {
      "needs_background": "light"
     },
     "output_type": "display_data"
    }
   ],
   "source": [
    "for gamma in [1.0, 0.5, 0.1, 0.05]:\n",
    "    print(gamma)\n",
    "    l = make_48_cluster(gamma, 16, 16)\n",
    "    autocorrs = l.run_quantum_monte_carlo_and_measure_spin_product_autocorrelation(2.0, 10000, spin_prods, sampling_wait_buffer=10000)\n",
    "\n",
    "    for i in range(autocorrs.shape[0]):\n",
    "        pyplot.plot(autocorrs[i,:1000], alpha=0.1)\n",
    "    pyplot.plot(numpy.mean(autocorrs[:,:1000], axis=0), label=str(gamma))\n",
    "pyplot.legend()\n",
    "pyplot.yscale('log')\n",
    "pyplot.show()"
   ]
  },
  {
   "cell_type": "code",
   "execution_count": null,
   "metadata": {},
   "outputs": [],
   "source": []
  }
 ],
 "metadata": {
  "kernelspec": {
   "display_name": "Python 3",
   "language": "python",
   "name": "python3"
  },
  "language_info": {
   "codemirror_mode": {
    "name": "ipython",
    "version": 3
   },
   "file_extension": ".py",
   "mimetype": "text/x-python",
   "name": "python",
   "nbconvert_exporter": "python",
   "pygments_lexer": "ipython3",
   "version": "3.6.1"
  }
 },
 "nbformat": 4,
 "nbformat_minor": 4
}
