{
 "cells": [
  {
   "cell_type": "code",
   "execution_count": 1,
   "metadata": {},
   "outputs": [],
   "source": [
    "import numpy\n",
    "import py_monte_carlo\n",
    "import scipy.linalg\n",
    "from matplotlib import pyplot"
   ]
  },
  {
   "cell_type": "code",
   "execution_count": 2,
   "metadata": {},
   "outputs": [],
   "source": [
    "def make_ham_and_spin(nvars, edges, transverse):\n",
    "    ham = numpy.zeros((2**nvars,2**nvars))\n",
    "    for i in range(2**nvars):\n",
    "        state = [(i >> j) & 1 for j in range(nvars)]\n",
    "        h = 0.0\n",
    "        for (vara, varb), j in edges:\n",
    "            if state[vara] == state[varb]:\n",
    "                h += j\n",
    "            else:\n",
    "                h -= j\n",
    "\n",
    "        ham[i,i] += h\n",
    "        for j in range(i+1, 2**nvars):\n",
    "            b_state = [(j >> k) & 1 for k in range(nvars)]\n",
    "            diffstate = [a^b for a,b in zip(state, b_state)]\n",
    "            if sum(diffstate) != 1:\n",
    "                continue\n",
    "            for vark,s in enumerate(diffstate):\n",
    "                if not s:\n",
    "                    continue\n",
    "                ham[i, j] = ham[i,j] + transverse\n",
    "                ham[j, i] = ham[j,i] + transverse\n",
    "\n",
    "    spin_diag = []\n",
    "    for i in range(2**nvars):\n",
    "        state = [(i >> j) & 1 for j in range(nvars)]\n",
    "        spin_diag.append(numpy.sum(numpy.asarray(state)*2 - 1)**2)\n",
    "    spin_op = numpy.diag(spin_diag)\n",
    "    return ham, spin_op"
   ]
  },
  {
   "cell_type": "code",
   "execution_count": 3,
   "metadata": {},
   "outputs": [],
   "source": [
    "edges = [\n",
    "    ((0, 1), -1.0),\n",
    "    ((1, 2), 1.0),\n",
    "    ((2, 3), 1.0),\n",
    "    ((3, 0), 1.0),\n",
    "    \n",
    "    ((1, 7), 1.0),\n",
    "    \n",
    "    ((4, 5), -1.0),\n",
    "    ((5, 6), 1.0),\n",
    "    ((6, 7), 1.0),\n",
    "    ((7, 4), 1.0)\n",
    "]\n",
    "\n",
    "graph1 = py_monte_carlo.Lattice(edges)\n",
    "\n",
    "graph2 = py_monte_carlo.Lattice(edges)\n",
    "graph2.set_enable_semiclassical_update(True)"
   ]
  },
  {
   "cell_type": "code",
   "execution_count": 4,
   "metadata": {},
   "outputs": [],
   "source": [
    "hs = 10**numpy.linspace(-1, 1, 10)\n",
    "beta = 4.0\n",
    "\n",
    "diag_orig = []\n",
    "diag_loop = []\n",
    "\n",
    "offdiag_orig = []\n",
    "offdiag_loop = []\n",
    "\n",
    "orig_m2 = []\n",
    "loop_m2 = []\n",
    "\n",
    "for i, h in enumerate(hs):\n",
    "    graph1.set_transverse_field(h)\n",
    "    graph2.set_transverse_field(h)\n",
    "    \n",
    "#     diag, offd = graph1.average_on_and_off_diagonal(beta, 10000, 8, sampling_wait_buffer=10000)\n",
    "#     diag_orig.append(diag)\n",
    "#     offdiag_orig.append(offd)\n",
    "    \n",
    "#     diag, offd = graph2.average_on_and_off_diagonal(beta, 10000, 8, sampling_wait_buffer=10000)\n",
    "#     diag_loop.append(diag)\n",
    "#     offdiag_loop.append(offd)\n",
    "    \n",
    "    results, _ = graph1.run_quantum_monte_carlo_and_measure_spins(beta, 10000, 8, exponent=2, sampling_wait_buffer=10000)\n",
    "    orig_m2.append(numpy.mean(results, axis=0))\n",
    "    \n",
    "    results, _ = graph2.run_quantum_monte_carlo_and_measure_spins(beta, 10000, 8, exponent=2, sampling_wait_buffer=10000)\n",
    "    loop_m2.append(numpy.mean(results, axis=0))\n",
    "\n",
    "diag_orig = numpy.asarray(diag_orig)\n",
    "diag_loop = numpy.asarray(diag_loop)\n",
    "\n",
    "offdiag_orig = numpy.asarray(offdiag_orig)\n",
    "offdiag_loop = numpy.asarray(offdiag_loop)\n",
    "\n",
    "orig_m2 = numpy.asarray(orig_m2)\n",
    "loop_m2 = numpy.asarray(loop_m2)"
   ]
  },
  {
   "cell_type": "code",
   "execution_count": 5,
   "metadata": {},
   "outputs": [],
   "source": [
    "nvars = len(set(v for vs, _ in edges for v in vs))\n",
    "ed_transverse_data = []\n",
    "\n",
    "for i, h in enumerate(hs):\n",
    "    ham, spin_op = make_ham_and_spin(nvars, edges, h)\n",
    "    expm = scipy.linalg.expm(-beta*ham)\n",
    "    ed_transverse_data.append(numpy.trace(spin_op @ expm) / numpy.trace(expm))"
   ]
  },
  {
   "cell_type": "code",
   "execution_count": 6,
   "metadata": {},
   "outputs": [
    {
     "data": {
      "image/png": "[encoded data removed]",
      "text/plain": [
       "<Figure size 432x288 with 1 Axes>"
      ]
     },
     "metadata": {
      "needs_background": "light"
     },
     "output_type": "display_data"
    }
   ],
   "source": [
    "pyplot.plot(hs, ed_transverse_data, label='ED', c='black')\n",
    "pyplot.plot(hs, orig_m2, 'x-', label='qmc', c='blue')\n",
    "pyplot.plot(hs, loop_m2, 'x--', label='mc/qmc', c='red')\n",
    "pyplot.xscale('log')\n",
    "pyplot.xlabel(r'$\\Gamma$')\n",
    "pyplot.ylabel(r'$M^2$')\n",
    "pyplot.legend()\n",
    "pyplot.grid()\n",
    "pyplot.show()"
   ]
  },
  {
   "cell_type": "code",
   "execution_count": 7,
   "metadata": {},
   "outputs": [],
   "source": [
    "# pyplot.plot(hs, diag_orig, 'x-', label='diag', c='blue')\n",
    "# pyplot.plot(hs, offdiag_orig, 'x--', label='offd', c='blue')\n",
    "# pyplot.plot(hs, diag_loop, 'x-', label='diag', c='red')\n",
    "# pyplot.plot(hs, offdiag_loop, 'x--', label='offd', c='red')\n",
    "# pyplot.xscale('log')\n",
    "# pyplot.legend()\n",
    "# pyplot.grid()\n",
    "# pyplot.show()"
   ]
  },
  {
   "cell_type": "code",
   "execution_count": 8,
   "metadata": {},
   "outputs": [],
   "source": [
    "# pyplot.plot(hs, (diag_loop-diag_orig)/diag_orig, 'x-')\n",
    "# pyplot.xscale('log')\n",
    "# pyplot.grid()\n",
    "# pyplot.show()\n",
    "\n",
    "# pyplot.plot(hs, (offdiag_loop-offdiag_orig)/offdiag_orig, 'x-')\n",
    "# pyplot.xscale('log')\n",
    "# pyplot.grid()\n",
    "# pyplot.show()"
   ]
  },
  {
   "cell_type": "code",
   "execution_count": null,
   "metadata": {},
   "outputs": [],
   "source": []
  }
 ],
 "metadata": {
  "kernelspec": {
   "display_name": "Python 3",
   "language": "python",
   "name": "python3"
  },
  "language_info": {
   "codemirror_mode": {
    "name": "ipython",
    "version": 3
   },
   "file_extension": ".py",
   "mimetype": "text/x-python",
   "name": "python",
   "nbconvert_exporter": "python",
   "pygments_lexer": "ipython3",
   "version": "3.8.2"
  }
 },
 "nbformat": 4,
 "nbformat_minor": 4
}
