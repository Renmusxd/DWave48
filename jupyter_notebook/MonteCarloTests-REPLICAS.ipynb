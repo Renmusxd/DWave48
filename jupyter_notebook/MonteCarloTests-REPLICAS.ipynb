{
 "cells": [
  {
   "cell_type": "code",
   "execution_count": 1,
   "metadata": {},
   "outputs": [],
   "source": [
    "import numpy\n",
    "from matplotlib import pyplot\n",
    "import py_monte_carlo\n",
    "import scipy.sparse\n",
    "import scipy.linalg"
   ]
  },
  {
   "cell_type": "markdown",
   "metadata": {},
   "source": [
    "## Including Transverse field"
   ]
  },
  {
   "cell_type": "code",
   "execution_count": 2,
   "metadata": {},
   "outputs": [],
   "source": [
    "edges =  [((0,1),-1.0), ((1,2), -1.0), ((2,3), -1.0), ((3,4), -1.0), ((4, 0), -1.0)]\n",
    "transverse = 1.0\n",
    "nvars = 5\n",
    "betas = [0.1, 0.5, 1.0, 2.5, 5.0, 10.0, 20.0, 40.0]\n",
    "\n",
    "graphs = py_monte_carlo.LatticeTempering(edges)\n",
    "\n",
    "for beta in betas:\n",
    "    graphs.add_graph(transverse, beta)"
   ]
  },
  {
   "cell_type": "code",
   "execution_count": 3,
   "metadata": {},
   "outputs": [],
   "source": [
    "results = graphs.qmc_timesteps_sample(10000, 1000)\n",
    "q_transverse_data = numpy.mean(numpy.sum(results, axis=-1)**2, axis=-1)"
   ]
  },
  {
   "cell_type": "code",
   "execution_count": 4,
   "metadata": {},
   "outputs": [],
   "source": [
    "def make_ham_and_spin(nvars, edges, transverse):\n",
    "    ham = numpy.zeros((2**nvars,2**nvars))\n",
    "    for i in range(2**nvars):\n",
    "        state = [(i >> j) & 1 for j in range(nvars)]\n",
    "        h = 0.0\n",
    "        for (vara, varb), j in edges:\n",
    "            if state[vara] == state[varb]:\n",
    "                h += j\n",
    "            else:\n",
    "                h -= j\n",
    "\n",
    "        ham[i,i] += h\n",
    "        for j in range(i+1, 2**nvars):\n",
    "            b_state = [(j >> k) & 1 for k in range(nvars)]\n",
    "            diffstate = [a^b for a,b in zip(state, b_state)]\n",
    "            if sum(diffstate) != 1:\n",
    "                continue\n",
    "            for vark,s in enumerate(diffstate):\n",
    "                if not s:\n",
    "                    continue\n",
    "                ham[i, j] = ham[i,j] + transverse\n",
    "                ham[j, i] = ham[j,i] + transverse\n",
    "\n",
    "    spin_diag = []\n",
    "    for i in range(2**nvars):\n",
    "        state = [(i >> j) & 1 for j in range(nvars)]\n",
    "        spin_diag.append(numpy.sum(numpy.asarray(state)*2 - 1)**2)\n",
    "    spin_op = numpy.diag(spin_diag)\n",
    "    return ham, spin_op\n",
    "\n",
    "ham, spin_op = make_ham_and_spin(nvars, edges, transverse)"
   ]
  },
  {
   "cell_type": "code",
   "execution_count": 5,
   "metadata": {},
   "outputs": [],
   "source": [
    "ed_transverse_data = []\n",
    "ed_transverse_energies = []\n",
    "for beta in betas:\n",
    "    expm = scipy.linalg.expm(-beta*ham)\n",
    "    ed_transverse_data.append(numpy.trace(spin_op @ expm) / numpy.trace(expm))\n",
    "    ed_transverse_energies.append(numpy.trace(ham @ expm) / numpy.trace(expm))"
   ]
  },
  {
   "cell_type": "code",
   "execution_count": 6,
   "metadata": {},
   "outputs": [
    {
     "data": {
      "image/png": "[encoded data removed]",
      "text/plain": [
       "<Figure size 432x288 with 1 Axes>"
      ]
     },
     "metadata": {
      "needs_background": "light"
     },
     "output_type": "display_data"
    }
   ],
   "source": [
    "pyplot.plot(betas, ed_transverse_data, 'x-', label=\"ED_T\")\n",
    "pyplot.plot(betas, q_transverse_data, 'x-', label=\"QMC\")\n",
    "pyplot.xscale('log')\n",
    "pyplot.legend()\n",
    "pyplot.grid()\n",
    "pyplot.xlabel(\"beta\")\n",
    "pyplot.ylabel(\"$M^2/N$\")\n",
    "pyplot.savefig(\"compare.png\")\n",
    "pyplot.show()"
   ]
  },
  {
   "cell_type": "markdown",
   "metadata": {},
   "source": [
    "## Lattice stuff\n",
    "\n",
    "Lets make a small 4-8 lattice, start with a single unit cell"
   ]
  },
  {
   "cell_type": "code",
   "execution_count": 9,
   "metadata": {},
   "outputs": [],
   "source": [
    "edges = [\n",
    "    ((0, 1), -1.0),\n",
    "    ((1, 2), 1.0),\n",
    "    ((2, 3), 1.0),\n",
    "    ((3, 0), 1.0)\n",
    "]\n",
    "nvars = 4\n",
    "transverse = 1.0\n",
    "\n",
    "graph = py_monte_carlo.Lattice(edges)\n",
    "graph.set_transverse_field(transverse)"
   ]
  },
  {
   "cell_type": "code",
   "execution_count": 10,
   "metadata": {},
   "outputs": [],
   "source": [
    "betas = [0.1, 0.5, 1.0, 2.5, 5.0, 10.0, 20.0, 40.0]"
   ]
  },
  {
   "cell_type": "code",
   "execution_count": 11,
   "metadata": {},
   "outputs": [],
   "source": [
    "lattice_qmc_data = numpy.zeros(len(betas))\n",
    "lattice_qmc_energy = numpy.zeros(len(betas))\n",
    "for i, beta in enumerate(betas):\n",
    "    results, energies = graph.run_quantum_monte_carlo_and_measure_spins(beta, 10000, 8, exponent=2)\n",
    "    lattice_qmc_data[i] = numpy.mean(results, axis=0)\n",
    "    lattice_qmc_energy[i] = numpy.mean(energies)"
   ]
  },
  {
   "cell_type": "code",
   "execution_count": 12,
   "metadata": {},
   "outputs": [],
   "source": [
    "lattice_ed_data = []\n",
    "lattice_ed_energy = []\n",
    "\n",
    "ham, spin_op = make_ham_and_spin(nvars, edges, transverse)\n",
    "\n",
    "for beta in betas:\n",
    "    expm = scipy.linalg.expm(-beta*ham)\n",
    "    lattice_ed_data.append(numpy.trace(spin_op @ expm) / numpy.trace(expm))\n",
    "    lattice_ed_energy.append(numpy.trace(ham @ expm) / numpy.trace(expm))"
   ]
  },
  {
   "cell_type": "code",
   "execution_count": 13,
   "metadata": {},
   "outputs": [
    {
     "data": {
      "image/png": "[encoded data removed]",
      "text/plain": [
       "<Figure size 432x288 with 1 Axes>"
      ]
     },
     "metadata": {
      "needs_background": "light"
     },
     "output_type": "display_data"
    },
    {
     "data": {
      "image/png": "[encoded data removed]",
      "text/plain": [
       "<Figure size 432x288 with 1 Axes>"
      ]
     },
     "metadata": {
      "needs_background": "light"
     },
     "output_type": "display_data"
    }
   ],
   "source": [
    "pyplot.plot(betas, lattice_ed_data, label='ED')\n",
    "pyplot.plot(betas, lattice_qmc_data, label='QMC')\n",
    "pyplot.xscale(\"log\")\n",
    "pyplot.legend()\n",
    "pyplot.grid()\n",
    "pyplot.xlabel(\"beta\")\n",
    "pyplot.ylabel(\"$M^2/N$\")\n",
    "pyplot.show()\n",
    "\n",
    "pyplot.plot(betas, lattice_ed_energy, label='ED')\n",
    "pyplot.plot(betas, lattice_qmc_energy, label='QMC')\n",
    "pyplot.xscale(\"log\")\n",
    "pyplot.grid()\n",
    "pyplot.legend()\n",
    "pyplot.xlabel(\"beta\")\n",
    "pyplot.ylabel(\"E\")\n",
    "pyplot.show()"
   ]
  },
  {
   "cell_type": "code",
   "execution_count": 14,
   "metadata": {},
   "outputs": [],
   "source": [
    "hs = 10**numpy.linspace(-1, 1, 10)\n",
    "beta = 1.0"
   ]
  },
  {
   "cell_type": "code",
   "execution_count": 15,
   "metadata": {},
   "outputs": [],
   "source": [
    "lattice_qmc_data_hs = numpy.zeros(len(hs))\n",
    "lattice_qmc_energy_hs = numpy.zeros(len(hs))\n",
    "graph = py_monte_carlo.Lattice(edges)\n",
    "\n",
    "for i, h in enumerate(hs):\n",
    "    graph.set_transverse_field(h)\n",
    "    results, energies = graph.run_quantum_monte_carlo_and_measure_spins(beta, 10000, 8, exponent=2)\n",
    "    lattice_qmc_data_hs[i] = numpy.mean(results, axis=0)\n",
    "    lattice_qmc_energy_hs[i] = numpy.mean(energies)"
   ]
  },
  {
   "cell_type": "code",
   "execution_count": 16,
   "metadata": {},
   "outputs": [],
   "source": [
    "lattice_ed_data_hs = []\n",
    "lattice_ed_energy_hs = []\n",
    "\n",
    "for h in hs:\n",
    "    ham, spin_op = make_ham_and_spin(nvars, edges, h)\n",
    "    expm = scipy.linalg.expm(-beta*ham)\n",
    "    lattice_ed_data_hs.append(numpy.trace(spin_op @ expm) / numpy.trace(expm))\n",
    "    lattice_ed_energy_hs.append(numpy.trace(ham @ expm) / numpy.trace(expm))"
   ]
  },
  {
   "cell_type": "code",
   "execution_count": 17,
   "metadata": {},
   "outputs": [
    {
     "data": {
      "image/png": "[encoded data removed]",
      "text/plain": [
       "<Figure size 432x288 with 1 Axes>"
      ]
     },
     "metadata": {
      "needs_background": "light"
     },
     "output_type": "display_data"
    },
    {
     "data": {
      "image/png": "[encoded data removed]",
      "text/plain": [
       "<Figure size 432x288 with 1 Axes>"
      ]
     },
     "metadata": {
      "needs_background": "light"
     },
     "output_type": "display_data"
    }
   ],
   "source": [
    "pyplot.plot(hs, lattice_ed_data_hs, label='ED')\n",
    "pyplot.plot(hs, lattice_qmc_data_hs, label='QMC')\n",
    "pyplot.xscale(\"log\")\n",
    "pyplot.legend()\n",
    "pyplot.grid()\n",
    "pyplot.xlabel(\"h\")\n",
    "pyplot.ylabel(\"$M^2/N$\")\n",
    "pyplot.show()\n",
    "\n",
    "pyplot.plot(hs, lattice_ed_energy_hs, label='ED')\n",
    "pyplot.plot(hs, lattice_qmc_energy_hs, label='QMC')\n",
    "pyplot.xscale(\"log\")\n",
    "pyplot.grid()\n",
    "pyplot.legend()\n",
    "pyplot.xlabel(\"h\")\n",
    "pyplot.ylabel(\"E\")\n",
    "pyplot.show()"
   ]
  },
  {
   "cell_type": "markdown",
   "metadata": {},
   "source": [
    "### Two unit cell lattice"
   ]
  },
  {
   "cell_type": "code",
   "execution_count": 18,
   "metadata": {},
   "outputs": [],
   "source": [
    "edges = [\n",
    "    ((0, 1), -1.0),\n",
    "    ((1, 2), 1.0),\n",
    "    ((2, 3), 1.0),\n",
    "    ((3, 0), 1.0),\n",
    "    \n",
    "    ((1, 7), 1.0),\n",
    "    \n",
    "    ((4, 5), -1.0),\n",
    "    ((5, 6), 1.0),\n",
    "    ((6, 7), 1.0),\n",
    "    ((7, 4), 1.0)\n",
    "]\n",
    "nvars = 8\n",
    "transverse = 1.0\n",
    "\n",
    "graph = py_monte_carlo.Lattice(edges)\n",
    "graph.set_transverse_field(transverse)"
   ]
  },
  {
   "cell_type": "code",
   "execution_count": 19,
   "metadata": {},
   "outputs": [
    {
     "name": "stdout",
     "output_type": "stream",
     "text": [
      "0.1\n",
      "0.5\n",
      "1.0\n",
      "2.5\n",
      "5.0\n",
      "10.0\n",
      "20.0\n",
      "40.0\n"
     ]
    }
   ],
   "source": [
    "large_lattice_qmc_data = numpy.zeros(len(betas))\n",
    "large_lattice_qmc_energy = numpy.zeros(len(betas))\n",
    "\n",
    "for i, beta in enumerate(betas):\n",
    "    print(beta)\n",
    "    results, energies = graph.run_quantum_monte_carlo_and_measure_spins(beta, 100000, 8, exponent=2)\n",
    "    large_lattice_qmc_data[i] = numpy.mean(results, axis=0)\n",
    "    large_lattice_qmc_energy[i] = numpy.mean(energies)"
   ]
  },
  {
   "cell_type": "code",
   "execution_count": 20,
   "metadata": {},
   "outputs": [],
   "source": [
    "large_lattice_ed_data = []\n",
    "large_lattice_ed_energy = []\n",
    "\n",
    "ham, spin_op = make_ham_and_spin(nvars, edges, transverse)\n",
    "\n",
    "for beta in betas:\n",
    "    expm = scipy.linalg.expm(-beta*ham)\n",
    "    large_lattice_ed_data.append(numpy.trace(spin_op @ expm) / numpy.trace(expm))\n",
    "    large_lattice_ed_energy.append(numpy.trace(ham @ expm) / numpy.trace(expm))"
   ]
  },
  {
   "cell_type": "code",
   "execution_count": 21,
   "metadata": {
    "scrolled": false
   },
   "outputs": [
    {
     "data": {
      "image/png": "[encoded data removed]",
      "text/plain": [
       "<Figure size 432x288 with 1 Axes>"
      ]
     },
     "metadata": {
      "needs_background": "light"
     },
     "output_type": "display_data"
    },
    {
     "data": {
      "image/png": "[encoded data removed]",
      "text/plain": [
       "<Figure size 432x288 with 1 Axes>"
      ]
     },
     "metadata": {
      "needs_background": "light"
     },
     "output_type": "display_data"
    }
   ],
   "source": [
    "pyplot.plot(betas, large_lattice_ed_data, label='ED')\n",
    "pyplot.plot(betas, large_lattice_qmc_data, label='QMC')\n",
    "pyplot.xscale(\"log\")\n",
    "pyplot.legend()\n",
    "pyplot.grid()\n",
    "pyplot.xlabel(\"beta\")\n",
    "pyplot.ylabel(\"$M^2/N$\")\n",
    "pyplot.show()\n",
    "\n",
    "pyplot.plot(betas, large_lattice_ed_energy, label='ED')\n",
    "pyplot.plot(betas, large_lattice_qmc_energy, label='QMC')\n",
    "pyplot.xscale(\"log\")\n",
    "pyplot.grid()\n",
    "pyplot.legend()\n",
    "pyplot.xlabel(\"beta\")\n",
    "pyplot.ylabel(\"E\")\n",
    "pyplot.show()"
   ]
  },
  {
   "cell_type": "code",
   "execution_count": 22,
   "metadata": {},
   "outputs": [],
   "source": [
    "hs = 10**numpy.linspace(-1, 1, 10)\n",
    "beta = 1.0"
   ]
  },
  {
   "cell_type": "code",
   "execution_count": 23,
   "metadata": {},
   "outputs": [],
   "source": [
    "large_lattice_qmc_data_hs = numpy.zeros(len(hs))\n",
    "large_lattice_qmc_energy_hs = numpy.zeros(len(hs))\n",
    "graph = py_monte_carlo.Lattice(edges)\n",
    "\n",
    "for i, h in enumerate(hs):\n",
    "    graph.set_transverse_field(h)\n",
    "    results, energies = graph.run_quantum_monte_carlo_and_measure_spins(beta, 10000, 8, exponent=2)\n",
    "    large_lattice_qmc_data_hs[i] = numpy.mean(results, axis=0)\n",
    "    large_lattice_qmc_energy_hs[i] = numpy.mean(energies)"
   ]
  },
  {
   "cell_type": "code",
   "execution_count": 24,
   "metadata": {},
   "outputs": [],
   "source": [
    "large_lattice_ed_data_hs = []\n",
    "large_lattice_ed_energy_hs = []\n",
    "\n",
    "for h in hs:\n",
    "    ham, spin_op = make_ham_and_spin(nvars, edges, h)\n",
    "    expm = scipy.linalg.expm(-beta*ham)\n",
    "    large_lattice_ed_data_hs.append(numpy.trace(spin_op @ expm) / numpy.trace(expm))\n",
    "    large_lattice_ed_energy_hs.append(numpy.trace(ham @ expm) / numpy.trace(expm))"
   ]
  },
  {
   "cell_type": "code",
   "execution_count": 25,
   "metadata": {},
   "outputs": [
    {
     "data": {
      "image/png": "[encoded data removed]",
      "text/plain": [
       "<Figure size 432x288 with 1 Axes>"
      ]
     },
     "metadata": {
      "needs_background": "light"
     },
     "output_type": "display_data"
    },
    {
     "data": {
      "image/png": "[encoded data removed]",
      "text/plain": [
       "<Figure size 432x288 with 1 Axes>"
      ]
     },
     "metadata": {
      "needs_background": "light"
     },
     "output_type": "display_data"
    }
   ],
   "source": [
    "pyplot.plot(hs, large_lattice_ed_data_hs, label='ED')\n",
    "pyplot.plot(hs, large_lattice_qmc_data_hs, label='QMC')\n",
    "pyplot.xscale(\"log\")\n",
    "pyplot.legend()\n",
    "pyplot.grid()\n",
    "pyplot.xlabel(\"h\")\n",
    "pyplot.ylabel(\"$M^2/N$\")\n",
    "pyplot.show()\n",
    "\n",
    "pyplot.plot(hs, large_lattice_ed_energy_hs, label='ED')\n",
    "pyplot.plot(hs, large_lattice_qmc_energy_hs, label='QMC')\n",
    "pyplot.xscale(\"log\")\n",
    "pyplot.grid()\n",
    "pyplot.legend()\n",
    "pyplot.xlabel(\"h\")\n",
    "pyplot.ylabel(\"E\")\n",
    "pyplot.show()"
   ]
  },
  {
   "cell_type": "markdown",
   "metadata": {},
   "source": [
    "## Superclique"
   ]
  },
  {
   "cell_type": "code",
   "execution_count": 26,
   "metadata": {},
   "outputs": [],
   "source": [
    "nvars = 8\n",
    "\n",
    "edges = [((i,j), 1.0) for i in range(nvars) for j in range(i)]\n",
    "transverse = 1.0\n",
    "\n",
    "graph = py_monte_carlo.Lattice(edges)\n",
    "graph.set_transverse_field(transverse)"
   ]
  },
  {
   "cell_type": "code",
   "execution_count": 27,
   "metadata": {},
   "outputs": [
    {
     "name": "stdout",
     "output_type": "stream",
     "text": [
      "0.1\n",
      "0.5\n",
      "1.0\n",
      "2.5\n",
      "5.0\n",
      "10.0\n",
      "20.0\n",
      "40.0\n"
     ]
    }
   ],
   "source": [
    "clique_qmc_data = numpy.zeros(len(betas))\n",
    "clique_qmc_energy = numpy.zeros(len(betas))\n",
    "\n",
    "for i, beta in enumerate(betas):\n",
    "    print(beta)\n",
    "    results, energies = graph.run_quantum_monte_carlo_and_measure_spins(beta, 100000, 8, exponent=2)\n",
    "    clique_qmc_data[i] = numpy.mean(results, axis=0)\n",
    "    clique_qmc_energy[i] = numpy.mean(energies)"
   ]
  },
  {
   "cell_type": "code",
   "execution_count": 28,
   "metadata": {},
   "outputs": [],
   "source": [
    "clique_ed_data = []\n",
    "clique_ed_energy = []\n",
    "\n",
    "ham, spin_op = make_ham_and_spin(nvars, edges, transverse)\n",
    "\n",
    "for beta in betas:\n",
    "    expm = scipy.linalg.expm(-beta*ham)\n",
    "    clique_ed_data.append(numpy.trace(spin_op @ expm) / numpy.trace(expm))\n",
    "    clique_ed_energy.append(numpy.trace(ham @ expm) / numpy.trace(expm))"
   ]
  },
  {
   "cell_type": "code",
   "execution_count": 29,
   "metadata": {},
   "outputs": [
    {
     "data": {
      "image/png": "[encoded data removed]",
      "text/plain": [
       "<Figure size 432x288 with 1 Axes>"
      ]
     },
     "metadata": {
      "needs_background": "light"
     },
     "output_type": "display_data"
    },
    {
     "data": {
      "image/png": "[encoded data removed]",
      "text/plain": [
       "<Figure size 432x288 with 1 Axes>"
      ]
     },
     "metadata": {
      "needs_background": "light"
     },
     "output_type": "display_data"
    }
   ],
   "source": [
    "pyplot.plot(betas, clique_ed_data, label='ED')\n",
    "pyplot.plot(betas, clique_qmc_data, label='QMC')\n",
    "pyplot.xscale(\"log\")\n",
    "pyplot.legend()\n",
    "pyplot.grid()\n",
    "pyplot.xlabel(\"beta\")\n",
    "pyplot.ylabel(\"$M^2/N$\")\n",
    "pyplot.show()\n",
    "\n",
    "pyplot.plot(betas, clique_ed_energy, label='ED')\n",
    "pyplot.plot(betas, clique_qmc_energy, label='QMC')\n",
    "pyplot.xscale(\"log\")\n",
    "pyplot.grid()\n",
    "pyplot.legend()\n",
    "pyplot.xlabel(\"beta\")\n",
    "pyplot.ylabel(\"E\")\n",
    "pyplot.show()"
   ]
  },
  {
   "cell_type": "code",
   "execution_count": 30,
   "metadata": {},
   "outputs": [],
   "source": [
    "hs = 10**numpy.linspace(-1, 1, 10)\n",
    "beta = 1.0"
   ]
  },
  {
   "cell_type": "code",
   "execution_count": 31,
   "metadata": {},
   "outputs": [],
   "source": [
    "clique_qmc_data_hs = numpy.zeros(len(hs))\n",
    "clique_qmc_energy_hs = numpy.zeros(len(hs))\n",
    "graph = py_monte_carlo.Lattice(edges)\n",
    "\n",
    "for i, h in enumerate(hs):\n",
    "    graph.set_transverse_field(h)\n",
    "    results, energies = graph.run_quantum_monte_carlo_and_measure_spins(beta, 10000, 8, exponent=2)\n",
    "    clique_qmc_data_hs[i] = numpy.mean(results, axis=0)\n",
    "    clique_qmc_energy_hs[i] = numpy.mean(energies)"
   ]
  },
  {
   "cell_type": "code",
   "execution_count": 32,
   "metadata": {},
   "outputs": [],
   "source": [
    "clique_ed_data_hs = []\n",
    "clique_ed_energy_hs = []\n",
    "\n",
    "for h in hs:\n",
    "    ham, spin_op = make_ham_and_spin(nvars, edges, h)\n",
    "    expm = scipy.linalg.expm(-beta*ham)\n",
    "    clique_ed_data_hs.append(numpy.trace(spin_op @ expm) / numpy.trace(expm))\n",
    "    clique_ed_energy_hs.append(numpy.trace(ham @ expm) / numpy.trace(expm))"
   ]
  },
  {
   "cell_type": "code",
   "execution_count": 33,
   "metadata": {},
   "outputs": [
    {
     "data": {
      "image/png": "[encoded data removed]",
      "text/plain": [
       "<Figure size 432x288 with 1 Axes>"
      ]
     },
     "metadata": {
      "needs_background": "light"
     },
     "output_type": "display_data"
    },
    {
     "data": {
      "image/png": "[encoded data removed]",
      "text/plain": [
       "<Figure size 432x288 with 1 Axes>"
      ]
     },
     "metadata": {
      "needs_background": "light"
     },
     "output_type": "display_data"
    }
   ],
   "source": [
    "pyplot.plot(hs, clique_ed_data_hs, label='ED')\n",
    "pyplot.plot(hs, clique_qmc_data_hs, label='QMC')\n",
    "pyplot.xscale(\"log\")\n",
    "pyplot.legend()\n",
    "pyplot.grid()\n",
    "pyplot.xlabel(\"h\")\n",
    "pyplot.ylabel(\"$M^2/N$\")\n",
    "pyplot.show()\n",
    "\n",
    "pyplot.plot(hs, clique_ed_energy_hs, label='ED')\n",
    "pyplot.plot(hs, clique_qmc_energy_hs, label='QMC')\n",
    "pyplot.xscale(\"log\")\n",
    "pyplot.grid()\n",
    "pyplot.legend()\n",
    "pyplot.xlabel(\"h\")\n",
    "pyplot.ylabel(\"E\")\n",
    "pyplot.show()"
   ]
  },
  {
   "cell_type": "markdown",
   "metadata": {},
   "source": [
    "## Heatbath"
   ]
  },
  {
   "cell_type": "code",
   "execution_count": null,
   "metadata": {},
   "outputs": [],
   "source": [
    "large_lattice_qmc_data_heatbath = numpy.zeros(len(betas))\n",
    "large_lattice_qmc_energy_heatbath = numpy.zeros(len(betas))\n",
    "\n",
    "for i, beta in enumerate(betas):\n",
    "    print(beta)\n",
    "    results = graph.run_quantum_monte_carlo_and_measure_spins(beta, 10000, 8, exponent=2, use_heatbath_diagonal_update=True)\n",
    "    results, energies = zip(*results)\n",
    "    large_lattice_qmc_data_heatbath[i] = numpy.mean(results, axis=0)\n",
    "    large_lattice_qmc_energy_heatbath[i] = numpy.mean(energies)"
   ]
  },
  {
   "cell_type": "code",
   "execution_count": null,
   "metadata": {},
   "outputs": [],
   "source": [
    "pyplot.plot(betas, large_lattice_ed_data, label='ED')\n",
    "pyplot.plot(betas, large_lattice_qmc_data, label='QMC')\n",
    "pyplot.plot(betas, large_lattice_qmc_data_heatbath, label='HEATBATH')\n",
    "pyplot.xscale(\"log\")\n",
    "pyplot.legend()\n",
    "pyplot.grid()\n",
    "pyplot.xlabel(\"beta\")\n",
    "pyplot.ylabel(\"$M^2/N$\")\n",
    "pyplot.show()\n",
    "\n",
    "pyplot.plot(betas, large_lattice_ed_energy, label='ED')\n",
    "pyplot.plot(betas, large_lattice_qmc_energy, label='QMC')\n",
    "pyplot.plot(betas, large_lattice_qmc_energy_heatbath, label='HEATBATH')\n",
    "pyplot.xscale(\"log\")\n",
    "pyplot.grid()\n",
    "pyplot.legend()\n",
    "pyplot.xlabel(\"beta\")\n",
    "pyplot.ylabel(\"E\")\n",
    "pyplot.show()"
   ]
  },
  {
   "cell_type": "code",
   "execution_count": null,
   "metadata": {},
   "outputs": [],
   "source": [
    "beta = 1.0\n",
    "\n",
    "large_lattice_qmc_data_heatbath_hs = numpy.zeros(len(hs))\n",
    "large_lattice_qmc_energy_heatbath_hs = numpy.zeros(len(hs))\n",
    "\n",
    "for i, h in enumerate(hs):\n",
    "    print(h)\n",
    "    results = graph.run_quantum_monte_carlo_and_measure_spins(beta, 10000, 8, exponent=2, use_heatbath_diagonal_update=True)\n",
    "    results, energies = zip(*results)\n",
    "    large_lattice_qmc_data_heatbath_hs[i] = numpy.mean(results, axis=0)\n",
    "    large_lattice_qmc_energy_heatbath_hs[i] = numpy.mean(energies)"
   ]
  },
  {
   "cell_type": "code",
   "execution_count": null,
   "metadata": {},
   "outputs": [],
   "source": [
    "pyplot.plot(hs, large_lattice_ed_data_hs, label='ED')\n",
    "pyplot.plot(hs, large_lattice_qmc_data_heatbath_hs, label='HEATBATH')\n",
    "pyplot.plot(hs, large_lattice_qmc_data_hs, label='QMC')\n",
    "pyplot.xscale(\"log\")\n",
    "pyplot.legend()\n",
    "pyplot.grid()\n",
    "pyplot.xlabel(\"h\")\n",
    "pyplot.ylabel(\"$M^2/N$\")\n",
    "pyplot.show()\n",
    "\n",
    "pyplot.plot(hs, large_lattice_ed_energy_hs, label='ED')\n",
    "pyplot.plot(hs, large_lattice_qmc_energy_heatbath_hs, label='HEATBATH')\n",
    "pyplot.plot(hs, large_lattice_qmc_energy_hs, label='QMC')\n",
    "pyplot.xscale(\"log\")\n",
    "pyplot.grid()\n",
    "pyplot.legend()\n",
    "pyplot.xlabel(\"h\")\n",
    "pyplot.ylabel(\"E\")\n",
    "pyplot.show()"
   ]
  },
  {
   "cell_type": "markdown",
   "metadata": {},
   "source": [
    "### Double checking that bump near $\\beta = 2$\n",
    "\n",
    "I thought that the bump in the $\\frac{M^2}{N}$ graph for the loop of ising spins was interesting, decided to investigate further using ED methods."
   ]
  },
  {
   "cell_type": "code",
   "execution_count": null,
   "metadata": {},
   "outputs": [],
   "source": [
    "edges =  [((0,1),-1.0), ((1,2), -1.0), ((2,3), -1.0), ((3,4), -1.0), ((4, 0), -1.0)]\n",
    "transverse = 1.0\n",
    "nvars = 5\n",
    "betas = 10**numpy.linspace(-2,2,50)\n",
    "\n",
    "ham, spin_op = make_ham_and_spin(nvars, edges, transverse)"
   ]
  },
  {
   "cell_type": "code",
   "execution_count": null,
   "metadata": {},
   "outputs": [],
   "source": [
    "ed_transverse_data = []\n",
    "ed_transverse_energies = []\n",
    "for beta in betas:\n",
    "    expm = scipy.linalg.expm(-beta*ham)\n",
    "    ed_transverse_data.append(numpy.trace(spin_op @ expm) / numpy.trace(expm) / nvars)"
   ]
  },
  {
   "cell_type": "code",
   "execution_count": null,
   "metadata": {},
   "outputs": [],
   "source": [
    "pyplot.plot(betas, ed_transverse_data)\n",
    "pyplot.xscale('log')\n",
    "pyplot.grid()\n",
    "pyplot.xlabel(\"beta\")\n",
    "pyplot.ylabel(\"$M^2/N$\")\n",
    "pyplot.show()"
   ]
  },
  {
   "cell_type": "code",
   "execution_count": null,
   "metadata": {},
   "outputs": [],
   "source": [
    "dat = []\n",
    "\n",
    "for nvars in range(3, 10):\n",
    "    edges = [((v, v+1), -1.0) for v in range(nvars-1)] + [((nvars-1, 0), -1.0)]\n",
    "    ham, spin_op = make_ham_and_spin(nvars, edges, transverse)\n",
    "    tmp_ed_transverse_data = []\n",
    "    for beta in betas:\n",
    "        expm = scipy.linalg.expm(-beta*ham)\n",
    "        tmp_ed_transverse_data.append(numpy.trace(spin_op @ expm) / numpy.trace(expm) / nvars)\n",
    "    dat.append(tmp_ed_transverse_data)\n",
    "    pyplot.plot(betas, tmp_ed_transverse_data, label=\"{}\".format(nvars))\n",
    "\n",
    "pyplot.xscale('log')\n",
    "pyplot.legend()\n",
    "pyplot.grid()\n",
    "pyplot.xlabel(\"beta\")\n",
    "pyplot.ylabel(\"$M^2/N$\")\n",
    "pyplot.savefig(\"average_m_bump.png\")\n",
    "pyplot.show()"
   ]
  },
  {
   "cell_type": "markdown",
   "metadata": {},
   "source": [
    "### Eigenstates of n=3"
   ]
  },
  {
   "cell_type": "code",
   "execution_count": null,
   "metadata": {},
   "outputs": [],
   "source": [
    "nvars = 3\n",
    "edges = [((v, v+1), -1.0) for v in range(nvars-1)] + [((nvars-1, 0), -1.0)]\n",
    "ham, spin_op = make_ham_and_spin(nvars, edges, transverse)\n",
    "ham"
   ]
  },
  {
   "cell_type": "code",
   "execution_count": null,
   "metadata": {},
   "outputs": [],
   "source": [
    "ls, vs = numpy.linalg.eig(ham)\n",
    "spin_expt = numpy.diag(vs.T @ (spin_op @ vs))/3\n",
    "spin_expt"
   ]
  },
  {
   "cell_type": "code",
   "execution_count": null,
   "metadata": {},
   "outputs": [],
   "source": [
    "pyplot.plot(ls, spin_expt, 'x')\n",
    "pyplot.xlabel(\"E\")\n",
    "pyplot.ylabel(\"$M^2/N$\")\n",
    "pyplot.grid()\n",
    "pyplot.show()"
   ]
  },
  {
   "cell_type": "code",
   "execution_count": null,
   "metadata": {},
   "outputs": [],
   "source": [
    "spin_heated_values = []\n",
    "for beta in betas:\n",
    "    weights = numpy.exp(-beta*ls)\n",
    "    z = numpy.sum(weights)\n",
    "    spin_heated = numpy.sum(weights * spin_expt) / z\n",
    "    spin_heated_values.append(spin_heated)\n",
    "pyplot.plot(betas, spin_heated_values, label=\"Eig\")\n",
    "pyplot.plot(betas, dat[0], label=\"ED\")\n",
    "pyplot.xscale('log')\n",
    "pyplot.grid()\n",
    "pyplot.xlabel(\"beta\")\n",
    "pyplot.ylabel(\"$M^2/N$\")\n",
    "pyplot.legend()\n",
    "pyplot.show()"
   ]
  },
  {
   "cell_type": "markdown",
   "metadata": {},
   "source": [
    "Ok, guess it's real, not sure why these don't agree for small beta, the methods should be doing the same thing (exponentiating the eigenvalues and summing them).\n",
    "\n",
    "### Varying H"
   ]
  },
  {
   "cell_type": "code",
   "execution_count": null,
   "metadata": {},
   "outputs": [],
   "source": [
    "betas = 10**numpy.linspace(-2,2,50)\n",
    "transverse = 1.0\n",
    "nvars = 3\n",
    "dat = []\n",
    "edges = [((v, v+1), -1.0) for v in range(nvars-1)] + [((nvars-1, 0), -1.0)]\n",
    "hs = numpy.linspace(-5,5,50)\n",
    "for h in hs:    \n",
    "    ham, spin_op = make_ham_and_spin(nvars, edges, h)\n",
    "    tmp_ed_transverse_data = []\n",
    "    for beta in betas:\n",
    "        expm = scipy.linalg.expm(-beta*ham)\n",
    "        tmp_ed_transverse_data.append(numpy.trace(spin_op @ expm) / numpy.trace(expm) / nvars)\n",
    "    dat.append(tmp_ed_transverse_data)\n",
    "    pyplot.plot(betas, tmp_ed_transverse_data)\n",
    "\n",
    "pyplot.xscale('log')\n",
    "pyplot.grid()\n",
    "pyplot.xlabel(\"beta\")\n",
    "pyplot.ylabel(\"$M^2/N$\")\n",
    "pyplot.show()"
   ]
  },
  {
   "cell_type": "code",
   "execution_count": null,
   "metadata": {},
   "outputs": [],
   "source": [
    "bump_size = [numpy.max(d) - d[-1] for d in dat]\n",
    "pyplot.plot(hs, bump_size)\n",
    "pyplot.grid()\n",
    "pyplot.xlabel(\"h/J\")\n",
    "pyplot.ylabel(\"$\\Delta(M^2/N)$\")\n",
    "pyplot.show()"
   ]
  },
  {
   "cell_type": "code",
   "execution_count": null,
   "metadata": {},
   "outputs": [],
   "source": [
    "bump_ratio = [numpy.max(d) / d[-1] for d in dat]\n",
    "pyplot.plot(hs, bump_ratio)\n",
    "pyplot.grid()\n",
    "pyplot.xlabel(\"h/J\")\n",
    "pyplot.ylabel(\"Ratio\")\n",
    "pyplot.show()"
   ]
  },
  {
   "cell_type": "code",
   "execution_count": null,
   "metadata": {},
   "outputs": [],
   "source": [
    "transverse = 1.0\n",
    "nvars = 3\n",
    "edges = [((v, v+1), -1.0) for v in range(nvars-1)] + [((nvars-1, 0), -1.0)]\n",
    "hs = numpy.linspace(-5,5,50)\n",
    "\n",
    "for nvars in range(3, 7):\n",
    "    ratios = []\n",
    "    for h in hs:    \n",
    "        ham, spin_op = make_ham_and_spin(nvars, edges, h)\n",
    "        tmp_ed_transverse_data = []\n",
    "        for beta in betas:\n",
    "            expm = scipy.linalg.expm(-beta*ham)\n",
    "            tmp_ed_transverse_data.append(numpy.trace(spin_op @ expm) / numpy.trace(expm) / nvars)\n",
    "        bump_ratio = numpy.max(tmp_ed_transverse_data) / tmp_ed_transverse_data[-1]\n",
    "        ratios.append(bump_ratio)\n",
    "    pyplot.plot(hs, ratios, label=\"{}\".format(nvars))\n",
    "\n",
    "pyplot.grid()\n",
    "pyplot.legend()\n",
    "pyplot.xlabel(\"beta\")\n",
    "pyplot.ylabel(\"Ratio\")\n",
    "pyplot.show()"
   ]
  },
  {
   "cell_type": "code",
   "execution_count": null,
   "metadata": {},
   "outputs": [],
   "source": []
  }
 ],
 "metadata": {
  "kernelspec": {
   "display_name": "Python 3",
   "language": "python",
   "name": "python3"
  },
  "language_info": {
   "codemirror_mode": {
    "name": "ipython",
    "version": 3
   },
   "file_extension": ".py",
   "mimetype": "text/x-python",
   "name": "python",
   "nbconvert_exporter": "python",
   "pygments_lexer": "ipython3",
   "version": "3.6.1"
  }
 },
 "nbformat": 4,
 "nbformat_minor": 4
}
