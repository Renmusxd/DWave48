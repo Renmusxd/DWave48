{
 "cells": [
  {
   "cell_type": "code",
   "execution_count": 1,
   "metadata": {},
   "outputs": [],
   "source": [
    "import numpy\n",
    "from matplotlib import pyplot"
   ]
  },
  {
   "cell_type": "code",
   "execution_count": null,
   "metadata": {},
   "outputs": [],
   "source": []
  },
  {
   "cell_type": "code",
   "execution_count": null,
   "metadata": {},
   "outputs": [],
   "source": [
    "\n",
    "def plot_state(state):\n",
    "    state = numpy.asarray(state)\n",
    "    edge_gen = ((state[a] ^ state[b],j) for (a,b), j in edges)\n",
    "    dimer_states = [a if j<0 else not a for a,j in edge_gen]\n",
    "    all_indices = numpy.asarray([(a,b) for (a,b),_ in edges])\n",
    "    x_all_indices = all_indices % side_len\n",
    "    y_all_indices = all_indices // side_len\n",
    "    all_coords = numpy.dstack([x_all_indices, y_all_indices])\n",
    "    dimer_lookup = dict(((tuple(a), tuple(b)), s) for (a,b), s in zip(all_coords, dimer_states))\n",
    "    \n",
    "    xs = X.flatten()\n",
    "    ys = Y.flatten()\n",
    "    inds = INDX.flatten()\n",
    "    \n",
    "    if state.any():\n",
    "        pyplot.scatter(xs[state[inds]], ys[state[inds]], marker='x', c='r')\n",
    "    if not state.all():\n",
    "        pyplot.scatter(xs[numpy.logical_not(state[inds])], ys[numpy.logical_not(state[inds])], marker='x', c='b')\n",
    "    \n",
    "    for k,v in dimer_lookup.items():\n",
    "        c = 'b'\n",
    "        if v:\n",
    "            c = 'r'\n",
    "        a, b = k\n",
    "        xs, ys = zip(a, b)\n",
    "        \n",
    "        xs = list(xs)\n",
    "        ys = list(ys)\n",
    "        if abs(xs[0] - xs[1]) > 1:\n",
    "            xs[0] = max(xs[0], xs[1])\n",
    "            xs[1] = xs[0] + 1\n",
    "        if abs(ys[0] - ys[1]) > 1: \n",
    "            ys[0] = min(ys[0], ys[1]) - 1\n",
    "            ys[1] = ys[0] + 1\n",
    "        \n",
    "        avg_x = sum(xs)/2.0\n",
    "        avg_y = sum(ys)/2.0\n",
    "\n",
    "        if xs[0] == xs[1]:\n",
    "            pyplot.plot([avg_x-0.5, avg_x+0.5], [avg_y,avg_y], c)\n",
    "        else:\n",
    "            pyplot.plot([avg_x, avg_x], [avg_y-0.5,avg_y+0.5], c)\n",
    "        \n",
    "    pyplot.show()"
   ]
  }
 ],
 "metadata": {
  "kernelspec": {
   "display_name": "Python 3",
   "language": "python",
   "name": "python3"
  },
  "language_info": {
   "codemirror_mode": {
    "name": "ipython",
    "version": 3
   },
   "file_extension": ".py",
   "mimetype": "text/x-python",
   "name": "python",
   "nbconvert_exporter": "python",
   "pygments_lexer": "ipython3",
   "version": "3.6.9"
  }
 },
 "nbformat": 4,
 "nbformat_minor": 4
}
